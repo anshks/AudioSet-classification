{
 "cells": [
  {
   "cell_type": "code",
   "execution_count": 1,
   "id": "fc740d33-6b97-4879-8b0b-b5acee98a181",
   "metadata": {},
   "outputs": [],
   "source": [
    "from load_data import save_16khz_audio"
   ]
  },
  {
   "cell_type": "code",
   "execution_count": null,
   "id": "a26ce4e0-5200-4e6c-9975-8bb841948e54",
   "metadata": {},
   "outputs": [
    {
     "name": "stderr",
     "output_type": "stream",
     "text": [
      "Loading Waveforms: 100%|██████████| 18886/18886 [13:33<00:00, 23.21it/s]  \n",
      "Padding Waveforms:  24%|██▎       | 4473/18886 [00:11<01:17, 184.99it/s] "
     ]
    }
   ],
   "source": [
    "save_16khz_audio()"
   ]
  },
  {
   "cell_type": "code",
   "execution_count": null,
   "id": "0d275018-6bcc-44d9-a5a5-2b3e62bc9061",
   "metadata": {},
   "outputs": [],
   "source": []
  }
 ],
 "metadata": {
  "kernelspec": {
   "display_name": "dl_env",
   "language": "python",
   "name": "dl_env"
  },
  "language_info": {
   "codemirror_mode": {
    "name": "ipython",
    "version": 3
   },
   "file_extension": ".py",
   "mimetype": "text/x-python",
   "name": "python",
   "nbconvert_exporter": "python",
   "pygments_lexer": "ipython3",
   "version": "3.12.7"
  }
 },
 "nbformat": 4,
 "nbformat_minor": 5
}
