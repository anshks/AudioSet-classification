{
 "cells": [
  {
   "cell_type": "code",
   "execution_count": 1,
   "id": "fc740d33-6b97-4879-8b0b-b5acee98a181",
   "metadata": {},
   "outputs": [],
   "source": [
    "from load_data import save_16khz_audio"
   ]
  },
  {
   "cell_type": "code",
   "execution_count": 2,
   "id": "a26ce4e0-5200-4e6c-9975-8bb841948e54",
   "metadata": {},
   "outputs": [
    {
     "name": "stderr",
     "output_type": "stream",
     "text": [
      "Loading Waveforms: 100%|██████████| 18886/18886 [13:56<00:00, 22.59it/s]  \n",
      "Padding Waveforms: 100%|██████████| 18886/18886 [03:27<00:00, 90.86it/s] \n",
      "Loading Labels: 100%|██████████| 18886/18886 [00:01<00:00, 11795.09it/s]\n"
     ]
    }
   ],
   "source": [
    "save_16khz_audio()"
   ]
  },
  {
   "cell_type": "code",
   "execution_count": 3,
   "id": "0d275018-6bcc-44d9-a5a5-2b3e62bc9061",
   "metadata": {},
   "outputs": [
    {
     "name": "stderr",
     "output_type": "stream",
     "text": [
      "Loading Waveforms: 100%|██████████| 20550/20550 [15:24<00:00, 22.23it/s] \n",
      "Padding Waveforms: 100%|██████████| 20550/20550 [04:11<00:00, 81.68it/s] \n",
      "Loading Labels: 100%|██████████| 20550/20550 [00:02<00:00, 8186.85it/s]\n"
     ]
    }
   ],
   "source": [
    "save_16khz_audio('train')"
   ]
  },
  {
   "cell_type": "code",
   "execution_count": null,
   "id": "ab7ee8a7-4102-4714-ae82-0444ff33134c",
   "metadata": {},
   "outputs": [],
   "source": []
  }
 ],
 "metadata": {
  "kernelspec": {
   "display_name": "dl_env",
   "language": "python",
   "name": "dl_env"
  },
  "language_info": {
   "codemirror_mode": {
    "name": "ipython",
    "version": 3
   },
   "file_extension": ".py",
   "mimetype": "text/x-python",
   "name": "python",
   "nbconvert_exporter": "python",
   "pygments_lexer": "ipython3",
   "version": "3.12.7"
  }
 },
 "nbformat": 4,
 "nbformat_minor": 5
}
