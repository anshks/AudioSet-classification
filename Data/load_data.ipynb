{
 "cells": [
  {
   "cell_type": "code",
   "execution_count": 1,
   "id": "fc740d33-6b97-4879-8b0b-b5acee98a181",
   "metadata": {},
   "outputs": [],
   "source": [
    "from load_data import save_16khz_audio"
   ]
  },
  {
   "cell_type": "code",
   "execution_count": 2,
   "id": "a26ce4e0-5200-4e6c-9975-8bb841948e54",
   "metadata": {},
   "outputs": [
    {
     "name": "stderr",
     "output_type": "stream",
     "text": [
      "Loading Waveforms: 100%|██████████| 18886/18886 [14:43<00:00, 21.37it/s]  \n",
      "Padding Waveforms: 100%|██████████| 18886/18886 [00:37<00:00, 501.74it/s]\n",
      "Loading Labels: 100%|██████████| 18886/18886 [00:01<00:00, 14451.30it/s]\n",
      "Padding Labels: 100%|██████████| 18886/18886 [00:00<00:00, 233601.67it/s]\n"
     ]
    }
   ],
   "source": [
    "save_16khz_audio()"
   ]
  },
  {
   "cell_type": "code",
   "execution_count": 3,
   "id": "0d275018-6bcc-44d9-a5a5-2b3e62bc9061",
   "metadata": {},
   "outputs": [
    {
     "name": "stderr",
     "output_type": "stream",
     "text": [
      "Loading Waveforms: 100%|██████████| 20550/20550 [16:23<00:00, 20.88it/s]  \n",
      "Padding Waveforms: 100%|██████████| 20550/20550 [00:38<00:00, 539.84it/s]\n",
      "Loading Labels: 100%|██████████| 20550/20550 [00:01<00:00, 13918.62it/s]\n",
      "Padding Labels: 100%|██████████| 20550/20550 [00:00<00:00, 227873.56it/s]\n"
     ]
    }
   ],
   "source": [
    "save_16khz_audio('train')"
   ]
  }
 ],
 "metadata": {
  "kernelspec": {
   "display_name": "dl_env",
   "language": "python",
   "name": "dl_env"
  },
  "language_info": {
   "codemirror_mode": {
    "name": "ipython",
    "version": 3
   },
   "file_extension": ".py",
   "mimetype": "text/x-python",
   "name": "python",
   "nbconvert_exporter": "python",
   "pygments_lexer": "ipython3",
   "version": "3.12.7"
  }
 },
 "nbformat": 4,
 "nbformat_minor": 5
}
