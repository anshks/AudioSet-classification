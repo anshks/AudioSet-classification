{
 "cells": [
  {
   "cell_type": "code",
   "execution_count": 1,
   "id": "3afd1f5a-73d1-4e70-878b-829fac8f6cc5",
   "metadata": {},
   "outputs": [
    {
     "name": "stdout",
     "output_type": "stream",
     "text": [
      "imports successful!\n"
     ]
    }
   ],
   "source": [
    "import torch\n",
    "import numpy as np\n",
    "import os\n",
    "import torch.nn as nn\n",
    "import torch.optim as optim\n",
    "import torch.nn as nn\n",
    "from torch.utils.data import DataLoader, TensorDataset, random_split, Subset\n",
    "from sklearn.metrics import average_precision_score\n",
    "from sklearn.metrics import f1_score, precision_score, recall_score, average_precision_score\n",
    "from sklearn.preprocessing import StandardScaler\n",
    "import matplotlib.pyplot as plt\n",
    "from tqdm import tqdm\n",
    "\n",
    "print(\"imports successful!\")"
   ]
  },
  {
   "cell_type": "code",
   "execution_count": 2,
   "id": "8a3fc783-9621-409e-b308-85cfe86a2278",
   "metadata": {},
   "outputs": [
    {
     "name": "stderr",
     "output_type": "stream",
     "text": [
      "/state/partition1/job-54630429/ipykernel_668262/2292649188.py:1: FutureWarning: You are using `torch.load` with `weights_only=False` (the current default value), which uses the default pickle module implicitly. It is possible to construct malicious pickle data which will execute arbitrary code during unpickling (See https://github.com/pytorch/pytorch/blob/main/SECURITY.md#untrusted-models for more details). In a future release, the default value for `weights_only` will be flipped to `True`. This limits the functions that could be executed during unpickling. Arbitrary objects will no longer be allowed to be loaded via this mode unless they are explicitly allowlisted by the user via `torch.serialization.add_safe_globals`. We recommend you start setting `weights_only=True` for any use case where you don't have full control of the loaded file. Please open an issue on GitHub for any issues related to this experimental feature.\n",
      "  y_train = torch.load(\"/scratch/as20482/ML_Final_Proj/AudioSet-classification/Data/train/labels.pt\")\n",
      "/state/partition1/job-54630429/ipykernel_668262/2292649188.py:2: FutureWarning: You are using `torch.load` with `weights_only=False` (the current default value), which uses the default pickle module implicitly. It is possible to construct malicious pickle data which will execute arbitrary code during unpickling (See https://github.com/pytorch/pytorch/blob/main/SECURITY.md#untrusted-models for more details). In a future release, the default value for `weights_only` will be flipped to `True`. This limits the functions that could be executed during unpickling. Arbitrary objects will no longer be allowed to be loaded via this mode unless they are explicitly allowlisted by the user via `torch.serialization.add_safe_globals`. We recommend you start setting `weights_only=True` for any use case where you don't have full control of the loaded file. Please open an issue on GitHub for any issues related to this experimental feature.\n",
      "  y_test = torch.load(\"/scratch/as20482/ML_Final_Proj/AudioSet-classification/Data/test/labels.pt\")\n"
     ]
    }
   ],
   "source": [
    "y_train = torch.load(\"/scratch/as20482/ML_Final_Proj/AudioSet-classification/Data/train/labels.pt\")\n",
    "y_test = torch.load(\"/scratch/as20482/ML_Final_Proj/AudioSet-classification/Data/test/labels.pt\")"
   ]
  },
  {
   "cell_type": "code",
   "execution_count": 2,
   "id": "46c5774c-2998-4db2-bd4e-3114bbb0e126",
   "metadata": {},
   "outputs": [
    {
     "name": "stderr",
     "output_type": "stream",
     "text": [
      "/state/partition1/job-54572618/ipykernel_985906/2255235829.py:1: FutureWarning: You are using `torch.load` with `weights_only=False` (the current default value), which uses the default pickle module implicitly. It is possible to construct malicious pickle data which will execute arbitrary code during unpickling (See https://github.com/pytorch/pytorch/blob/main/SECURITY.md#untrusted-models for more details). In a future release, the default value for `weights_only` will be flipped to `True`. This limits the functions that could be executed during unpickling. Arbitrary objects will no longer be allowed to be loaded via this mode unless they are explicitly allowlisted by the user via `torch.serialization.add_safe_globals`. We recommend you start setting `weights_only=True` for any use case where you don't have full control of the loaded file. Please open an issue on GitHub for any issues related to this experimental feature.\n",
      "  x_train = torch.load(\"/scratch/as20482/ML_Final_Proj/AudioSet-classification/Data/train/train_rep.pt\")\n",
      "/state/partition1/job-54572618/ipykernel_985906/2255235829.py:2: FutureWarning: You are using `torch.load` with `weights_only=False` (the current default value), which uses the default pickle module implicitly. It is possible to construct malicious pickle data which will execute arbitrary code during unpickling (See https://github.com/pytorch/pytorch/blob/main/SECURITY.md#untrusted-models for more details). In a future release, the default value for `weights_only` will be flipped to `True`. This limits the functions that could be executed during unpickling. Arbitrary objects will no longer be allowed to be loaded via this mode unless they are explicitly allowlisted by the user via `torch.serialization.add_safe_globals`. We recommend you start setting `weights_only=True` for any use case where you don't have full control of the loaded file. Please open an issue on GitHub for any issues related to this experimental feature.\n",
      "  y_train = torch.load(\"/scratch/as20482/ML_Final_Proj/AudioSet-classification/Data/train/labels.pt\")\n",
      "/state/partition1/job-54572618/ipykernel_985906/2255235829.py:3: FutureWarning: You are using `torch.load` with `weights_only=False` (the current default value), which uses the default pickle module implicitly. It is possible to construct malicious pickle data which will execute arbitrary code during unpickling (See https://github.com/pytorch/pytorch/blob/main/SECURITY.md#untrusted-models for more details). In a future release, the default value for `weights_only` will be flipped to `True`. This limits the functions that could be executed during unpickling. Arbitrary objects will no longer be allowed to be loaded via this mode unless they are explicitly allowlisted by the user via `torch.serialization.add_safe_globals`. We recommend you start setting `weights_only=True` for any use case where you don't have full control of the loaded file. Please open an issue on GitHub for any issues related to this experimental feature.\n",
      "  x_test = torch.load(\"/scratch/as20482/ML_Final_Proj/AudioSet-classification/Data/test/test_rep.pt\")\n",
      "/state/partition1/job-54572618/ipykernel_985906/2255235829.py:4: FutureWarning: You are using `torch.load` with `weights_only=False` (the current default value), which uses the default pickle module implicitly. It is possible to construct malicious pickle data which will execute arbitrary code during unpickling (See https://github.com/pytorch/pytorch/blob/main/SECURITY.md#untrusted-models for more details). In a future release, the default value for `weights_only` will be flipped to `True`. This limits the functions that could be executed during unpickling. Arbitrary objects will no longer be allowed to be loaded via this mode unless they are explicitly allowlisted by the user via `torch.serialization.add_safe_globals`. We recommend you start setting `weights_only=True` for any use case where you don't have full control of the loaded file. Please open an issue on GitHub for any issues related to this experimental feature.\n",
      "  y_test = torch.load(\"/scratch/as20482/ML_Final_Proj/AudioSet-classification/Data/test/labels.pt\")\n"
     ]
    }
   ],
   "source": [
    "x_train = torch.load(\"/scratch/as20482/ML_Final_Proj/AudioSet-classification/Data/train/train_rep.pt\")\n",
    "x_test = torch.load(\"/scratch/as20482/ML_Final_Proj/AudioSet-classification/Data/test/test_rep.pt\")"
   ]
  },
  {
   "cell_type": "code",
   "execution_count": 3,
   "id": "6d4cd022-7d9e-4fff-be99-fbad20385999",
   "metadata": {},
   "outputs": [
    {
     "name": "stderr",
     "output_type": "stream",
     "text": [
      "/state/partition1/job-54630429/ipykernel_668262/2760535100.py:1: FutureWarning: You are using `torch.load` with `weights_only=False` (the current default value), which uses the default pickle module implicitly. It is possible to construct malicious pickle data which will execute arbitrary code during unpickling (See https://github.com/pytorch/pytorch/blob/main/SECURITY.md#untrusted-models for more details). In a future release, the default value for `weights_only` will be flipped to `True`. This limits the functions that could be executed during unpickling. Arbitrary objects will no longer be allowed to be loaded via this mode unless they are explicitly allowlisted by the user via `torch.serialization.add_safe_globals`. We recommend you start setting `weights_only=True` for any use case where you don't have full control of the loaded file. Please open an issue on GitHub for any issues related to this experimental feature.\n",
      "  x_train_layer1 = torch.load(\"/scratch/as20482/ML_Final_Proj/AudioSet-classification/Data/train/train_representations_firstlayer.pt\")\n",
      "/state/partition1/job-54630429/ipykernel_668262/2760535100.py:2: FutureWarning: You are using `torch.load` with `weights_only=False` (the current default value), which uses the default pickle module implicitly. It is possible to construct malicious pickle data which will execute arbitrary code during unpickling (See https://github.com/pytorch/pytorch/blob/main/SECURITY.md#untrusted-models for more details). In a future release, the default value for `weights_only` will be flipped to `True`. This limits the functions that could be executed during unpickling. Arbitrary objects will no longer be allowed to be loaded via this mode unless they are explicitly allowlisted by the user via `torch.serialization.add_safe_globals`. We recommend you start setting `weights_only=True` for any use case where you don't have full control of the loaded file. Please open an issue on GitHub for any issues related to this experimental feature.\n",
      "  x_test_layer1 = torch.load(\"/scratch/as20482/ML_Final_Proj/AudioSet-classification/Data/test/test_representations_firstlayer.pt\")\n"
     ]
    }
   ],
   "source": [
    "x_train_layer1 = torch.load(\"/scratch/as20482/ML_Final_Proj/AudioSet-classification/Data/train/train_representations_firstlayer.pt\")\n",
    "x_test_layer1 = torch.load(\"/scratch/as20482/ML_Final_Proj/AudioSet-classification/Data/test/test_representations_firstlayer.pt\")"
   ]
  },
  {
   "cell_type": "code",
   "execution_count": 3,
   "id": "7dee8f67-1f22-4f1f-b090-03d72fb1ef48",
   "metadata": {},
   "outputs": [
    {
     "name": "stderr",
     "output_type": "stream",
     "text": [
      "/state/partition1/job-54624160/ipykernel_1656829/4105970534.py:1: FutureWarning: You are using `torch.load` with `weights_only=False` (the current default value), which uses the default pickle module implicitly. It is possible to construct malicious pickle data which will execute arbitrary code during unpickling (See https://github.com/pytorch/pytorch/blob/main/SECURITY.md#untrusted-models for more details). In a future release, the default value for `weights_only` will be flipped to `True`. This limits the functions that could be executed during unpickling. Arbitrary objects will no longer be allowed to be loaded via this mode unless they are explicitly allowlisted by the user via `torch.serialization.add_safe_globals`. We recommend you start setting `weights_only=True` for any use case where you don't have full control of the loaded file. Please open an issue on GitHub for any issues related to this experimental feature.\n",
      "  x_train_layer3 = torch.load(\"/scratch/as20482/ML_Final_Proj/AudioSet-classification/Data/train/train_representations_thirdlayer.pt\").detach()\n",
      "/state/partition1/job-54624160/ipykernel_1656829/4105970534.py:2: FutureWarning: You are using `torch.load` with `weights_only=False` (the current default value), which uses the default pickle module implicitly. It is possible to construct malicious pickle data which will execute arbitrary code during unpickling (See https://github.com/pytorch/pytorch/blob/main/SECURITY.md#untrusted-models for more details). In a future release, the default value for `weights_only` will be flipped to `True`. This limits the functions that could be executed during unpickling. Arbitrary objects will no longer be allowed to be loaded via this mode unless they are explicitly allowlisted by the user via `torch.serialization.add_safe_globals`. We recommend you start setting `weights_only=True` for any use case where you don't have full control of the loaded file. Please open an issue on GitHub for any issues related to this experimental feature.\n",
      "  x_test_layer3 = torch.load(\"/scratch/as20482/ML_Final_Proj/AudioSet-classification/Data/test/test_representations_thirdlayer.pt\").detach()\n"
     ]
    }
   ],
   "source": [
    "x_train_layer3 = torch.load(\"/scratch/as20482/ML_Final_Proj/AudioSet-classification/Data/train/train_representations_thirdlayer.pt\")\n",
    "x_test_layer3 = torch.load(\"/scratch/as20482/ML_Final_Proj/AudioSet-classification/Data/test/test_representations_thirdlayer.pt\")"
   ]
  },
  {
   "cell_type": "code",
   "execution_count": 4,
   "id": "6ea6e8ef-2be6-4db6-bee1-a9d0f9728a9a",
   "metadata": {},
   "outputs": [],
   "source": [
    "def calculate_map(y_true, y_pred):\n",
    "    n_classes = y_true.shape[1]\n",
    "    average_precisions = []\n",
    "    for i in range(n_classes):\n",
    "        y_true_class = y_true[:, i]\n",
    "        y_pred_class = y_pred[:, i]\n",
    "        ap = average_precision_score(y_true_class, y_pred_class)\n",
    "        average_precisions.append(ap)\n",
    "    average_precisions_sorted = sorted(average_precisions, reverse=True)\n",
    "    print(\"\\nTop 5 class-wise Average Precisions:\")\n",
    "    for i, ap in enumerate(average_precisions_sorted[:5]):\n",
    "        print(f\"Class {i+1}: {ap:.4f}\")\n",
    "    \n",
    "    return np.mean(average_precisions)"
   ]
  },
  {
   "cell_type": "code",
   "execution_count": 5,
   "id": "2f9c1033-3a8a-4494-a0e9-aa15d115bf09",
   "metadata": {},
   "outputs": [],
   "source": [
    "def train_model(model, train_loader, criterion, optimizer, scheduler, num_epochs=10, device='cuda'):\n",
    "    print(\"Model being trained: \", model.__class__.__name__)\n",
    "    model = model.to(device)\n",
    "    model.train()\n",
    "    loss_list = []\n",
    "    for epoch in tqdm(range(num_epochs)):\n",
    "        # Training phase\n",
    "        train_loss = 0\n",
    "        for batch_x, batch_y in train_loader:\n",
    "            batch_x = batch_x.to(device)\n",
    "            batch_y = batch_y.to(device)\n",
    "            outputs = model(batch_x)\n",
    "            loss = criterion(outputs, batch_y)\n",
    "            optimizer.zero_grad()\n",
    "            loss.backward()\n",
    "            optimizer.step()\n",
    "            scheduler.step()\n",
    "            train_loss += loss.item()\n",
    "        loss_list.append(train_loss/len(train_loader))\n",
    "    return model, loss_list"
   ]
  },
  {
   "cell_type": "code",
   "execution_count": 6,
   "id": "e58e84f6-59fb-4eec-8cba-d0ecee28486f",
   "metadata": {},
   "outputs": [],
   "source": [
    "def test_model(model, test_loader, device='cuda'):\n",
    "    print(\"Model being tested: \", model.__class__.__name__)\n",
    "    \n",
    "    model.eval()\n",
    "    \n",
    "    test_predictions = []\n",
    "    test_targets = []\n",
    "    \n",
    "    with torch.no_grad():\n",
    "        for batch_x, batch_y in test_loader:\n",
    "            batch_x = batch_x.to(device)\n",
    "            outputs = model(batch_x)\n",
    "            test_predictions.extend(outputs.cpu().numpy())\n",
    "            test_targets.extend(batch_y.cpu().numpy())\n",
    "    \n",
    "    test_predictions = np.array(test_predictions)\n",
    "    test_targets = np.array(test_targets)\n",
    "    \n",
    "    test_map = calculate_map(test_targets, test_predictions)\n",
    "    test_f1 = f1_score(test_targets, (test_predictions > 0.5).astype(float), average=\"micro\")\n",
    "    \n",
    "    print(f\"Test MAP: {test_map:.4f}\")\n",
    "    print(f\"Test F1-Score: {test_f1:.4f}\")\n",
    "    \n",
    "    return test_map, test_f1"
   ]
  },
  {
   "cell_type": "code",
   "execution_count": 14,
   "id": "182875a9-e540-4bd5-892a-4d9f614b359a",
   "metadata": {},
   "outputs": [],
   "source": [
    "batch_size = 256\n",
    "num_epochs = 2\n",
    "device = torch.device('cuda' if torch.cuda.is_available() else 'cpu')"
   ]
  },
  {
   "cell_type": "code",
   "execution_count": 6,
   "id": "60c64831-6617-42f2-8b6f-4a33d207d60b",
   "metadata": {},
   "outputs": [],
   "source": [
    "train_dataset = TensorDataset(x_train, y_train.float())\n",
    "test_dataset = TensorDataset(x_test, y_test.float())\n",
    "test_loader = DataLoader(test_dataset, batch_size=32, shuffle=False)\n",
    "train_loader = DataLoader(train_dataset, batch_size=batch_size, shuffle=True)"
   ]
  },
  {
   "cell_type": "code",
   "execution_count": 8,
   "id": "955767ae-e603-4adb-8a63-22d0758e1fb6",
   "metadata": {},
   "outputs": [],
   "source": [
    "train_dataset_layer1 = TensorDataset(x_train_layer1, y_train.float())\n",
    "train_loader_layer1 = DataLoader(train_dataset_layer1, batch_size=batch_size, shuffle=True)\n",
    "test_dataset_layer1 = TensorDataset(x_test_layer1, y_test.float())\n",
    "test_loader_layer1 = DataLoader(test_dataset_layer1, batch_size=32, shuffle=False)"
   ]
  },
  {
   "cell_type": "code",
   "execution_count": 8,
   "id": "3e5674ee-b10e-44b5-a4de-19e7c16a4347",
   "metadata": {},
   "outputs": [],
   "source": [
    "train_dataset_layer3 = TensorDataset(x_train_layer3, y_train.float())\n",
    "train_loader_layer3 = DataLoader(train_dataset_layer3, batch_size=batch_size, shuffle=True)\n",
    "test_dataset_layer3 = TensorDataset(x_test_layer3, y_test.float())\n",
    "test_loader_layer3 = DataLoader(test_dataset_layer3, batch_size=32, shuffle=False)"
   ]
  },
  {
   "cell_type": "markdown",
   "id": "a3ed6ea8-944d-49dc-8aaa-856aee03f3a4",
   "metadata": {},
   "source": [
    "# RNN"
   ]
  },
  {
   "cell_type": "code",
   "execution_count": null,
   "id": "94a7a7f6-ba99-4037-a07d-51a30882aa1b",
   "metadata": {},
   "outputs": [],
   "source": [
    "class RNNClassifier(nn.Module):\n",
    "    def __init__(self, input_size=768, hidden_size=1024, num_layers=2, num_classes=527, dropout=0.1):\n",
    "        super(RNNClassifier, self).__init__()\n",
    "        \n",
    "        self.rnn = nn.RNN(\n",
    "            input_size=input_size,\n",
    "            hidden_size=hidden_size,\n",
    "            num_layers=num_layers,\n",
    "            batch_first=True,\n",
    "            dropout=dropout if num_layers > 1 else 0,\n",
    "            bidirectional=True\n",
    "        )\n",
    "        \n",
    "        self.fc = nn.Sequential(\n",
    "            nn.Linear(2*hidden_size, hidden_size),\n",
    "            nn.ReLU(),\n",
    "            nn.Linear(hidden_size, num_classes),\n",
    "        )\n",
    "        \n",
    "    def forward(self, x):\n",
    "        rnn_output, hidden = self.rnn(x)\n",
    "        pooled_output = torch.mean(rnn_output, dim=1)\n",
    "        output = self.fc(pooled_output)\n",
    "        return output"
   ]
  },
  {
   "cell_type": "code",
   "execution_count": 46,
   "id": "b3a7a843-7a84-493d-803d-31f5e52b59c2",
   "metadata": {},
   "outputs": [],
   "source": [
    "model = RNNClassifier()\n",
    "optimizer = torch.optim.AdamW(model.parameters(), lr = 1e-5, betas=(0.9, 0.999), weight_decay=0.1)\n",
    "scheduler = torch.optim.lr_scheduler.OneCycleLR(optimizer, max_lr=1e-3, steps_per_epoch=len(train_loader), epochs=num_epochs)\n",
    "\n",
    "criterion = nn.BCEWithLogitsLoss()"
   ]
  },
  {
   "cell_type": "code",
   "execution_count": 47,
   "id": "120d5cd9-277f-4e58-bf22-c12e13ca76c5",
   "metadata": {},
   "outputs": [
    {
     "name": "stdout",
     "output_type": "stream",
     "text": [
      "Model being trained:  RNNClassifier\n"
     ]
    },
    {
     "name": "stderr",
     "output_type": "stream",
     "text": [
      "100%|██████████| 35/35 [21:14<00:00, 36.42s/it]\n"
     ]
    }
   ],
   "source": [
    "model, loss_list = train_model(model, train_loader, criterion, optimizer, scheduler, num_epochs, device)"
   ]
  },
  {
   "cell_type": "code",
   "execution_count": 48,
   "id": "de604f0d-ce2e-4a8b-a3cb-12a1aa94e5f8",
   "metadata": {},
   "outputs": [
    {
     "data": {
      "text/plain": [
       "[<matplotlib.lines.Line2D at 0x15208030ff20>]"
      ]
     },
     "execution_count": 48,
     "metadata": {},
     "output_type": "execute_result"
    },
    {
     "data": {
      "image/png": "[encoded data removed]",
      "text/plain": [
       "<Figure size 640x480 with 1 Axes>"
      ]
     },
     "metadata": {},
     "output_type": "display_data"
    }
   ],
   "source": [
    "plt.plot(loss_list)"
   ]
  },
  {
   "cell_type": "code",
   "execution_count": 49,
   "id": "692fcfc2-624b-4a83-ab62-581c6dc4cf3f",
   "metadata": {},
   "outputs": [
    {
     "name": "stdout",
     "output_type": "stream",
     "text": [
      "Model being tested:  RNNClassifier\n",
      "\n",
      "Top 5 class-wise Average Precisions:\n",
      "Class 1: 0.7683\n",
      "Class 2: 0.5870\n",
      "Class 3: 0.5759\n",
      "Class 4: 0.5617\n",
      "Class 5: 0.5161\n",
      "Test MAP: 0.0700\n",
      "Test F1-Score: 0.1210\n"
     ]
    },
    {
     "data": {
      "text/plain": [
       "(np.float64(0.0700444367620246), np.float64(0.12101361834166523))"
      ]
     },
     "execution_count": 49,
     "metadata": {},
     "output_type": "execute_result"
    }
   ],
   "source": [
    "test_model(model, test_loader)"
   ]
  },
  {
   "cell_type": "code",
   "execution_count": 9,
   "id": "04acba80-89ca-4db0-bc8f-c9a46ba0411a",
   "metadata": {},
   "outputs": [],
   "source": [
    "class RNNMaxClassifier(nn.Module):\n",
    "    def __init__(self, input_size=768, hidden_size=1024, num_layers=2, num_classes=527, dropout=0.1):\n",
    "        super(RNNMaxClassifier, self).__init__()\n",
    "        \n",
    "        self.rnn = nn.RNN(\n",
    "            input_size=input_size,\n",
    "            hidden_size=hidden_size,\n",
    "            num_layers=num_layers,\n",
    "            batch_first=True,\n",
    "            dropout=dropout if num_layers > 1 else 0,\n",
    "            bidirectional=True\n",
    "        )\n",
    "        \n",
    "        self.fc = nn.Sequential(\n",
    "            nn.Linear(2*hidden_size, hidden_size),\n",
    "            nn.ReLU(),\n",
    "            nn.Linear(hidden_size, num_classes),\n",
    "        )\n",
    "        \n",
    "    def forward(self, x):\n",
    "        rnn_output, hidden = self.rnn(x)\n",
    "        pooled_output, _ = torch.max(rnn_output, dim=1)\n",
    "        output = self.fc(pooled_output)\n",
    "        return output"
   ]
  },
  {
   "cell_type": "code",
   "execution_count": 9,
   "id": "9dbcfa90-c965-45d1-ac63-941c610e513f",
   "metadata": {},
   "outputs": [],
   "source": [
    "model = RNNMaxClassifier()\n",
    "optimizer = torch.optim.AdamW(model.parameters(), lr = 1e-5, betas=(0.9, 0.999), weight_decay=0.1)\n",
    "scheduler = torch.optim.lr_scheduler.OneCycleLR(optimizer, max_lr=1e-3, steps_per_epoch=len(train_loader), epochs=num_epochs)\n",
    "\n",
    "criterion = nn.BCEWithLogitsLoss()"
   ]
  },
  {
   "cell_type": "code",
   "execution_count": 10,
   "id": "87cf381f-5489-4038-80f1-4a6c5f5b835c",
   "metadata": {},
   "outputs": [
    {
     "name": "stdout",
     "output_type": "stream",
     "text": [
      "Model being trained:  RNNMaxClassifier\n"
     ]
    },
    {
     "name": "stderr",
     "output_type": "stream",
     "text": [
      "100%|██████████| 35/35 [58:04<00:00, 99.56s/it] \n"
     ]
    }
   ],
   "source": [
    "model, loss_list = train_model(model, train_loader, criterion, optimizer, scheduler, num_epochs, device)"
   ]
  },
  {
   "cell_type": "code",
   "execution_count": 11,
   "id": "07d97514-54ef-45bf-9863-c9ba560c70bb",
   "metadata": {},
   "outputs": [
    {
     "data": {
      "text/plain": [
       "[<matplotlib.lines.Line2D at 0x1453bfe077d0>]"
      ]
     },
     "execution_count": 11,
     "metadata": {},
     "output_type": "execute_result"
    },
    {
     "data": {
      "image/png": "[encoded data removed]",
      "text/plain": [
       "<Figure size 640x480 with 1 Axes>"
      ]
     },
     "metadata": {},
     "output_type": "display_data"
    }
   ],
   "source": [
    "plt.plot(loss_list)"
   ]
  },
  {
   "cell_type": "code",
   "execution_count": 12,
   "id": "74c39a75-f4a5-43f3-acce-59e3933e106d",
   "metadata": {},
   "outputs": [
    {
     "name": "stdout",
     "output_type": "stream",
     "text": [
      "Model being tested:  RNNMaxClassifier\n",
      "\n",
      "Top 5 class-wise Average Precisions:\n",
      "Class 1: 0.7871\n",
      "Class 2: 0.7002\n",
      "Class 3: 0.6770\n",
      "Class 4: 0.6404\n",
      "Class 5: 0.6375\n",
      "Test MAP: 0.1962\n",
      "Test F1-Score: 0.2718\n"
     ]
    },
    {
     "data": {
      "text/plain": [
       "(np.float64(0.19617979210841444), np.float64(0.2717664312324056))"
      ]
     },
     "execution_count": 12,
     "metadata": {},
     "output_type": "execute_result"
    }
   ],
   "source": [
    "test_model(model, test_loader)"
   ]
  },
  {
   "cell_type": "code",
   "execution_count": null,
   "id": "53c55439-9863-4c06-a209-c2deacc4100c",
   "metadata": {},
   "outputs": [],
   "source": [
    "model = RNNMaxClassifier()\n",
    "optimizer = torch.optim.AdamW(model.parameters(), lr = 1e-5, betas=(0.9, 0.999), weight_decay=0.1)\n",
    "scheduler = torch.optim.lr_scheduler.OneCycleLR(optimizer, max_lr=1e-3, steps_per_epoch=len(train_loader_layer1), epochs=num_epochs)\n",
    "\n",
    "criterion = nn.BCEWithLogitsLoss()"
   ]
  },
  {
   "cell_type": "code",
   "execution_count": null,
   "id": "c4fb410c-dca0-4e38-bc0d-a7f2357c3aa3",
   "metadata": {},
   "outputs": [],
   "source": [
    "model, loss_list = train_model(model, train_loader_layer1, criterion, optimizer, scheduler, num_epochs, device)"
   ]
  },
  {
   "cell_type": "code",
   "execution_count": null,
   "id": "b2f6bbf3-494c-424d-ab23-63c1be9ebcc9",
   "metadata": {},
   "outputs": [],
   "source": [
    "plt.plot(loss_list)"
   ]
  },
  {
   "cell_type": "code",
   "execution_count": 14,
   "id": "b51b9289-4958-4101-acf5-58ae6f814d87",
   "metadata": {},
   "outputs": [
    {
     "name": "stdout",
     "output_type": "stream",
     "text": [
      "Model being tested:  RNNMaxClassifier\n",
      "\n",
      "Top 5 class-wise Average Precisions:\n",
      "Class 1: 0.4595\n",
      "Class 2: 0.3002\n",
      "Class 3: 0.1013\n",
      "Class 4: 0.0650\n",
      "Class 5: 0.0592\n",
      "Test MAP: 0.0107\n",
      "Test F1-Score: 0.0000\n"
     ]
    },
    {
     "data": {
      "text/plain": [
       "(np.float64(0.010748397030296094), np.float64(0.0))"
      ]
     },
     "execution_count": 14,
     "metadata": {},
     "output_type": "execute_result"
    }
   ],
   "source": [
    "test_model(model, test_loader_layer1)"
   ]
  },
  {
   "cell_type": "code",
   "execution_count": 11,
   "id": "90fdf940-cb35-4673-84bc-c3b0c9ecbea4",
   "metadata": {},
   "outputs": [],
   "source": [
    "model = RNNMaxClassifier()\n",
    "optimizer = torch.optim.AdamW(model.parameters(), lr = 1e-5, betas=(0.9, 0.999), weight_decay=0.1)\n",
    "scheduler = torch.optim.lr_scheduler.OneCycleLR(optimizer, max_lr=1e-3, steps_per_epoch=len(train_loader_layer3), epochs=num_epochs)\n",
    "\n",
    "criterion = nn.BCEWithLogitsLoss()"
   ]
  },
  {
   "cell_type": "code",
   "execution_count": 13,
   "id": "e37c9200-ca91-40eb-87ee-65032ba14373",
   "metadata": {},
   "outputs": [
    {
     "name": "stdout",
     "output_type": "stream",
     "text": [
      "Model being trained:  RNNMaxClassifier\n"
     ]
    },
    {
     "name": "stderr",
     "output_type": "stream",
     "text": [
      "100%|██████████| 35/35 [1:09:48<00:00, 119.67s/it]\n"
     ]
    }
   ],
   "source": [
    "model, loss_list = train_model(model, train_loader_layer3, criterion, optimizer, scheduler, num_epochs, device)"
   ]
  },
  {
   "cell_type": "code",
   "execution_count": 14,
   "id": "62741146-7c34-4f23-9fd8-a4587ebb6531",
   "metadata": {},
   "outputs": [
    {
     "data": {
      "text/plain": [
       "[<matplotlib.lines.Line2D at 0x15181cf327b0>]"
      ]
     },
     "execution_count": 14,
     "metadata": {},
     "output_type": "execute_result"
    },
    {
     "data": {
      "image/png": "[encoded data removed]",
      "text/plain": [
       "<Figure size 640x480 with 1 Axes>"
      ]
     },
     "metadata": {},
     "output_type": "display_data"
    }
   ],
   "source": [
    "plt.plot(loss_list)"
   ]
  },
  {
   "cell_type": "code",
   "execution_count": 15,
   "id": "ac5a074c-a3f5-4852-a5da-f7eb51f9a2ae",
   "metadata": {},
   "outputs": [
    {
     "name": "stdout",
     "output_type": "stream",
     "text": [
      "Model being tested:  RNNMaxClassifier\n",
      "\n",
      "Top 5 class-wise Average Precisions:\n",
      "Class 1: 0.6227\n",
      "Class 2: 0.3729\n",
      "Class 3: 0.1951\n",
      "Class 4: 0.0941\n",
      "Class 5: 0.0816\n",
      "Test MAP: 0.0166\n",
      "Test F1-Score: 0.0720\n"
     ]
    },
    {
     "data": {
      "text/plain": [
       "(np.float64(0.01660484557256491), np.float64(0.07199984279510306))"
      ]
     },
     "execution_count": 15,
     "metadata": {},
     "output_type": "execute_result"
    }
   ],
   "source": [
    "test_model(model, test_loader_layer3)"
   ]
  },
  {
   "cell_type": "markdown",
   "id": "2e7d43e7-fc0b-40ca-bb23-e8fb60407f47",
   "metadata": {},
   "source": [
    "# GRU"
   ]
  },
  {
   "cell_type": "code",
   "execution_count": 10,
   "id": "6276b87b-9151-4785-9772-e6675fc26797",
   "metadata": {},
   "outputs": [],
   "source": [
    "class GRUClassifier(nn.Module):\n",
    "    def __init__(self, input_size=768, hidden_size=1024, num_layers=2, num_classes=527, dropout=0.1):\n",
    "        super(GRUClassifier, self).__init__()\n",
    "        \n",
    "        self.rnn = nn.GRU(\n",
    "            input_size=input_size,\n",
    "            hidden_size=hidden_size,\n",
    "            num_layers=num_layers,\n",
    "            batch_first=True,\n",
    "            dropout=dropout if num_layers > 1 else 0,\n",
    "            bidirectional=True\n",
    "        )\n",
    "        \n",
    "        self.fc = nn.Sequential(\n",
    "            nn.Linear(2*hidden_size, hidden_size),\n",
    "            nn.ReLU(),\n",
    "            nn.Linear(hidden_size, num_classes),\n",
    "        )\n",
    "        \n",
    "    def forward(self, x):\n",
    "        rnn_output, hidden = self.rnn(x)\n",
    "        pooled_output = torch.mean(rnn_output, dim=1)\n",
    "        output = self.fc(pooled_output)\n",
    "        return output"
   ]
  },
  {
   "cell_type": "code",
   "execution_count": 53,
   "id": "b99e59a1-07b6-444f-8372-8fad58737f32",
   "metadata": {},
   "outputs": [],
   "source": [
    "model = GRUClassifier()\n",
    "optimizer = torch.optim.AdamW(model.parameters(), lr = 1e-5, betas=(0.9, 0.999), weight_decay=0.1)\n",
    "scheduler = torch.optim.lr_scheduler.OneCycleLR(optimizer, max_lr=1e-3, steps_per_epoch=len(train_loader), epochs=num_epochs)\n",
    "\n",
    "criterion = nn.BCEWithLogitsLoss()"
   ]
  },
  {
   "cell_type": "code",
   "execution_count": 54,
   "id": "7df5fe4f-f151-4daa-809a-ead496f2db38",
   "metadata": {},
   "outputs": [
    {
     "name": "stdout",
     "output_type": "stream",
     "text": [
      "Model being trained:  GRUClassifier\n"
     ]
    },
    {
     "name": "stderr",
     "output_type": "stream",
     "text": [
      "100%|██████████| 35/35 [27:59<00:00, 47.97s/it]\n"
     ]
    }
   ],
   "source": [
    "model, loss_list = train_model(model, train_loader, criterion, optimizer, scheduler, num_epochs, device)"
   ]
  },
  {
   "cell_type": "code",
   "execution_count": 55,
   "id": "8a4b244b-50c1-447e-a62a-86b0a7f12df4",
   "metadata": {},
   "outputs": [
    {
     "data": {
      "text/plain": [
       "[<matplotlib.lines.Line2D at 0x15208040b380>]"
      ]
     },
     "execution_count": 55,
     "metadata": {},
     "output_type": "execute_result"
    },
    {
     "data": {
      "image/png": "[encoded data removed]",
      "text/plain": [
       "<Figure size 640x480 with 1 Axes>"
      ]
     },
     "metadata": {},
     "output_type": "display_data"
    }
   ],
   "source": [
    "plt.plot(loss_list)"
   ]
  },
  {
   "cell_type": "code",
   "execution_count": 56,
   "id": "181a6695-d365-44a7-8117-8a181863ab63",
   "metadata": {},
   "outputs": [
    {
     "name": "stdout",
     "output_type": "stream",
     "text": [
      "Model being tested:  GRUClassifier\n",
      "\n",
      "Top 5 class-wise Average Precisions:\n",
      "Class 1: 0.9208\n",
      "Class 2: 0.9056\n",
      "Class 3: 0.8988\n",
      "Class 4: 0.8980\n",
      "Class 5: 0.8886\n",
      "Test MAP: 0.3811\n",
      "Test F1-Score: 0.5144\n"
     ]
    },
    {
     "data": {
      "text/plain": [
       "(np.float64(0.3810540087918704), np.float64(0.5143697264126822))"
      ]
     },
     "execution_count": 56,
     "metadata": {},
     "output_type": "execute_result"
    }
   ],
   "source": [
    "test_model(model, test_loader)"
   ]
  },
  {
   "cell_type": "code",
   "execution_count": 13,
   "id": "1e41f855-096d-4bae-b9a5-33fc1fa6d738",
   "metadata": {},
   "outputs": [],
   "source": [
    "class GRUMaxClassifier(nn.Module):\n",
    "    def __init__(self, input_size=768, hidden_size=1024, num_layers=2, num_classes=527, dropout=0.1):\n",
    "        super(GRUMaxClassifier, self).__init__()\n",
    "        \n",
    "        self.rnn = nn.GRU(\n",
    "            input_size=input_size,\n",
    "            hidden_size=hidden_size,\n",
    "            num_layers=num_layers,\n",
    "            batch_first=True,\n",
    "            dropout=dropout if num_layers > 1 else 0,\n",
    "            bidirectional=True\n",
    "        )\n",
    "        \n",
    "        self.fc = nn.Sequential(\n",
    "            nn.Linear(2*hidden_size, hidden_size),\n",
    "            nn.ReLU(),\n",
    "            nn.Linear(hidden_size, num_classes),\n",
    "        )\n",
    "        \n",
    "    def forward(self, x):\n",
    "        rnn_output, hidden = self.rnn(x)\n",
    "        pooled_output, _ = torch.max(rnn_output, dim=1)\n",
    "        output = self.fc(pooled_output)\n",
    "        return output"
   ]
  },
  {
   "cell_type": "code",
   "execution_count": 14,
   "id": "6a0487be-ff2f-4dd2-84a3-e435613eb8ef",
   "metadata": {},
   "outputs": [],
   "source": [
    "model = GRUMaxClassifier()\n",
    "optimizer = torch.optim.AdamW(model.parameters(), lr = 1e-5, betas=(0.9, 0.999), weight_decay=0.1)\n",
    "scheduler = torch.optim.lr_scheduler.OneCycleLR(optimizer, max_lr=1e-3, steps_per_epoch=len(train_loader), epochs=num_epochs)\n",
    "\n",
    "criterion = nn.BCEWithLogitsLoss()"
   ]
  },
  {
   "cell_type": "code",
   "execution_count": 15,
   "id": "239edabb-43e2-4173-b2ac-ecf26beb8c6e",
   "metadata": {},
   "outputs": [
    {
     "name": "stdout",
     "output_type": "stream",
     "text": [
      "Model being trained:  GRUMaxClassifier\n"
     ]
    },
    {
     "name": "stderr",
     "output_type": "stream",
     "text": [
      "100%|██████████| 35/35 [2:20:36<00:00, 241.04s/it]  \n"
     ]
    }
   ],
   "source": [
    "model, loss_list = train_model(model, train_loader, criterion, optimizer, scheduler, num_epochs, device)"
   ]
  },
  {
   "cell_type": "code",
   "execution_count": 16,
   "id": "763004f9-c0cb-4340-a08e-83f04775267a",
   "metadata": {},
   "outputs": [
    {
     "data": {
      "text/plain": [
       "[<matplotlib.lines.Line2D at 0x1453bdbb3b90>]"
      ]
     },
     "execution_count": 16,
     "metadata": {},
     "output_type": "execute_result"
    },
    {
     "data": {
      "image/png": "[encoded data removed]",
      "text/plain": [
       "<Figure size 640x480 with 1 Axes>"
      ]
     },
     "metadata": {},
     "output_type": "display_data"
    }
   ],
   "source": [
    "plt.plot(loss_list)"
   ]
  },
  {
   "cell_type": "code",
   "execution_count": 17,
   "id": "2dae353d-e850-4f9e-a756-2a4ff55486c3",
   "metadata": {},
   "outputs": [
    {
     "name": "stdout",
     "output_type": "stream",
     "text": [
      "Model being tested:  GRUMaxClassifier\n",
      "\n",
      "Top 5 class-wise Average Precisions:\n",
      "Class 1: 0.9253\n",
      "Class 2: 0.9165\n",
      "Class 3: 0.9133\n",
      "Class 4: 0.9009\n",
      "Class 5: 0.8950\n",
      "Test MAP: 0.3843\n",
      "Test F1-Score: 0.5122\n"
     ]
    },
    {
     "data": {
      "text/plain": [
       "(np.float64(0.38434802970733295), np.float64(0.5122286128814965))"
      ]
     },
     "execution_count": 17,
     "metadata": {},
     "output_type": "execute_result"
    }
   ],
   "source": [
    "test_model(model, test_loader)"
   ]
  },
  {
   "cell_type": "code",
   "execution_count": 16,
   "id": "20c5ad92-9bac-4929-9565-a9cc266c7f49",
   "metadata": {},
   "outputs": [],
   "source": [
    "model = GRUClassifier()\n",
    "optimizer = torch.optim.AdamW(model.parameters(), lr = 1e-5, betas=(0.9, 0.999), weight_decay=0.1)\n",
    "scheduler = torch.optim.lr_scheduler.OneCycleLR(optimizer, max_lr=1e-3, steps_per_epoch=len(train_loader_layer1), epochs=num_epochs)\n",
    "\n",
    "criterion = nn.BCEWithLogitsLoss()"
   ]
  },
  {
   "cell_type": "code",
   "execution_count": 17,
   "id": "053cd5c6-fc97-48aa-89b2-2ef930720cba",
   "metadata": {},
   "outputs": [
    {
     "name": "stdout",
     "output_type": "stream",
     "text": [
      "Model being trained:  GRUClassifier\n"
     ]
    },
    {
     "name": "stderr",
     "output_type": "stream",
     "text": [
      "100%|██████████| 5/5 [15:14<00:00, 182.97s/it]\n"
     ]
    }
   ],
   "source": [
    "model, loss_list = train_model(model, train_loader_layer1, criterion, optimizer, scheduler, num_epochs, device)"
   ]
  },
  {
   "cell_type": "code",
   "execution_count": 18,
   "id": "5a98b147-8c4f-426f-ba9f-ea58d94bb1fa",
   "metadata": {},
   "outputs": [
    {
     "data": {
      "text/plain": [
       "[<matplotlib.lines.Line2D at 0x150716914f80>]"
      ]
     },
     "execution_count": 18,
     "metadata": {},
     "output_type": "execute_result"
    },
    {
     "data": {
      "image/png": "[encoded data removed]",
      "text/plain": [
       "<Figure size 640x480 with 1 Axes>"
      ]
     },
     "metadata": {},
     "output_type": "display_data"
    }
   ],
   "source": [
    "plt.plot(loss_list)"
   ]
  },
  {
   "cell_type": "code",
   "execution_count": 18,
   "id": "82f0a285-369c-4d6e-91c8-7c5e4ff0edb8",
   "metadata": {},
   "outputs": [
    {
     "name": "stdout",
     "output_type": "stream",
     "text": [
      "Model being tested:  GRUClassifier\n",
      "\n",
      "Top 5 class-wise Average Precisions:\n",
      "Class 1: 0.4650\n",
      "Class 2: 0.3438\n",
      "Class 3: 0.0942\n",
      "Class 4: 0.0826\n",
      "Class 5: 0.0639\n",
      "Test MAP: 0.0128\n",
      "Test F1-Score: 0.0007\n"
     ]
    },
    {
     "data": {
      "text/plain": [
       "(np.float64(0.012812921004371881), np.float64(0.0006646864549363355))"
      ]
     },
     "execution_count": 18,
     "metadata": {},
     "output_type": "execute_result"
    }
   ],
   "source": [
    "test_model(model, test_loader_layer1)"
   ]
  },
  {
   "cell_type": "code",
   "execution_count": 10,
   "id": "0e9d6e8b-83dd-458a-a0e4-0bb1e38006ef",
   "metadata": {},
   "outputs": [],
   "source": [
    "model = GRUClassifier()\n",
    "optimizer = torch.optim.AdamW(model.parameters(), lr = 1e-5, betas=(0.9, 0.999), weight_decay=0.1)\n",
    "scheduler = torch.optim.lr_scheduler.OneCycleLR(optimizer, max_lr=1e-3, steps_per_epoch=len(train_loader_layer3), epochs=num_epochs)\n",
    "\n",
    "criterion = nn.BCEWithLogitsLoss()"
   ]
  },
  {
   "cell_type": "code",
   "execution_count": 11,
   "id": "3c96b06e-a1b1-488c-b13f-e2aae3026132",
   "metadata": {},
   "outputs": [
    {
     "name": "stdout",
     "output_type": "stream",
     "text": [
      "Model being trained:  GRUClassifier\n"
     ]
    },
    {
     "name": "stderr",
     "output_type": "stream",
     "text": [
      "100%|██████████| 35/35 [1:47:05<00:00, 183.59s/it]\n"
     ]
    }
   ],
   "source": [
    "model, loss_list = train_model(model, train_loader_layer3, criterion, optimizer, scheduler, num_epochs, device)"
   ]
  },
  {
   "cell_type": "code",
   "execution_count": 12,
   "id": "213c9ee0-17d8-421f-8d45-1663f578e95c",
   "metadata": {},
   "outputs": [
    {
     "data": {
      "text/plain": [
       "[<matplotlib.lines.Line2D at 0x145a559767e0>]"
      ]
     },
     "execution_count": 12,
     "metadata": {},
     "output_type": "execute_result"
    },
    {
     "data": {
      "image/png": "[encoded data removed]",
      "text/plain": [
       "<Figure size 640x480 with 1 Axes>"
      ]
     },
     "metadata": {},
     "output_type": "display_data"
    }
   ],
   "source": [
    "plt.plot(loss_list)"
   ]
  },
  {
   "cell_type": "code",
   "execution_count": 13,
   "id": "a8248397-6c62-4862-be20-2792b9f71d85",
   "metadata": {},
   "outputs": [
    {
     "name": "stdout",
     "output_type": "stream",
     "text": [
      "Model being tested:  GRUClassifier\n",
      "\n",
      "Top 5 class-wise Average Precisions:\n",
      "Class 1: 0.7024\n",
      "Class 2: 0.6280\n",
      "Class 3: 0.5573\n",
      "Class 4: 0.4952\n",
      "Class 5: 0.4471\n",
      "Test MAP: 0.1150\n",
      "Test F1-Score: 0.2552\n"
     ]
    },
    {
     "data": {
      "text/plain": [
       "(np.float64(0.11504716496412469), np.float64(0.25522233030517866))"
      ]
     },
     "execution_count": 13,
     "metadata": {},
     "output_type": "execute_result"
    }
   ],
   "source": [
    "test_model(model, test_loader_layer3)"
   ]
  },
  {
   "cell_type": "markdown",
   "id": "1eab68af-13a6-4385-8705-258f1a7df605",
   "metadata": {},
   "source": [
    "# LSTM"
   ]
  },
  {
   "cell_type": "code",
   "execution_count": 9,
   "id": "ba1636f0-2d65-4f2a-988c-2dd4e2264487",
   "metadata": {},
   "outputs": [],
   "source": [
    "class LSTMClassifier(nn.Module):\n",
    "    def __init__(self, input_size=768, hidden_size=1024, num_layers=2, num_classes=527, dropout=0.1):\n",
    "        super(LSTMClassifier, self).__init__()\n",
    "        \n",
    "        self.rnn = nn.LSTM(\n",
    "            input_size=input_size,\n",
    "            hidden_size=hidden_size,\n",
    "            num_layers=num_layers,\n",
    "            batch_first=True,\n",
    "            dropout=dropout if num_layers > 1 else 0,\n",
    "            bidirectional=True\n",
    "        )\n",
    "        \n",
    "        self.fc = nn.Sequential(\n",
    "            nn.Linear(2*hidden_size, hidden_size),\n",
    "            nn.ReLU(),\n",
    "            nn.Linear(hidden_size, num_classes),\n",
    "        )\n",
    "        \n",
    "    def forward(self, x):\n",
    "        rnn_output, hidden = self.rnn(x)\n",
    "        pooled_output = torch.mean(rnn_output, dim=1)\n",
    "        output = self.fc(pooled_output)\n",
    "        return output"
   ]
  },
  {
   "cell_type": "code",
   "execution_count": 58,
   "id": "072c5d39-cdcc-4c3a-8c8e-751730636382",
   "metadata": {},
   "outputs": [],
   "source": [
    "model = LSTMClassifier()\n",
    "optimizer = torch.optim.AdamW(model.parameters(), lr = 1e-5, betas=(0.9, 0.999), weight_decay=0.1)\n",
    "scheduler = torch.optim.lr_scheduler.OneCycleLR(optimizer, max_lr=1e-3, steps_per_epoch=len(train_loader), epochs=num_epochs)\n",
    "\n",
    "criterion = nn.BCEWithLogitsLoss()"
   ]
  },
  {
   "cell_type": "code",
   "execution_count": 59,
   "id": "616de7a7-1fdf-4e25-ace6-a4f38d0b5892",
   "metadata": {},
   "outputs": [
    {
     "name": "stdout",
     "output_type": "stream",
     "text": [
      "Model being trained:  LSTMClassifier\n"
     ]
    },
    {
     "name": "stderr",
     "output_type": "stream",
     "text": [
      "100%|██████████| 35/35 [28:08<00:00, 48.24s/it]\n"
     ]
    }
   ],
   "source": [
    "model, loss_list = train_model(model, train_loader, criterion, optimizer, scheduler, num_epochs, device)"
   ]
  },
  {
   "cell_type": "code",
   "execution_count": 60,
   "id": "08a0581b-3c35-455d-a7e8-a7f8baba3b98",
   "metadata": {},
   "outputs": [
    {
     "data": {
      "text/plain": [
       "[<matplotlib.lines.Line2D at 0x1520804801a0>]"
      ]
     },
     "execution_count": 60,
     "metadata": {},
     "output_type": "execute_result"
    },
    {
     "data": {
      "image/png": "[encoded data removed]",
      "text/plain": [
       "<Figure size 640x480 with 1 Axes>"
      ]
     },
     "metadata": {},
     "output_type": "display_data"
    }
   ],
   "source": [
    "plt.plot(loss_list)"
   ]
  },
  {
   "cell_type": "code",
   "execution_count": 61,
   "id": "3e90c4c6-7e93-4106-b220-9ad4ef422e3d",
   "metadata": {},
   "outputs": [
    {
     "name": "stdout",
     "output_type": "stream",
     "text": [
      "Model being tested:  LSTMClassifier\n",
      "\n",
      "Top 5 class-wise Average Precisions:\n",
      "Class 1: 0.9067\n",
      "Class 2: 0.8927\n",
      "Class 3: 0.8696\n",
      "Class 4: 0.8686\n",
      "Class 5: 0.8500\n",
      "Test MAP: 0.3573\n",
      "Test F1-Score: 0.5023\n"
     ]
    },
    {
     "data": {
      "text/plain": [
       "(np.float64(0.35728219380515325), np.float64(0.5023387843258253))"
      ]
     },
     "execution_count": 61,
     "metadata": {},
     "output_type": "execute_result"
    }
   ],
   "source": [
    "test_model(model, test_loader)"
   ]
  },
  {
   "cell_type": "code",
   "execution_count": 15,
   "id": "c6ae0d86-d06d-495d-92bf-0f2a2d31f3bc",
   "metadata": {},
   "outputs": [],
   "source": [
    "model = LSTMClassifier()\n",
    "optimizer = torch.optim.AdamW(model.parameters(), lr = 1e-5, betas=(0.9, 0.999), weight_decay=0.1)\n",
    "scheduler = torch.optim.lr_scheduler.OneCycleLR(optimizer, max_lr=1e-3, steps_per_epoch=len(train_loader_layer1), epochs=num_epochs)\n",
    "\n",
    "criterion = nn.BCEWithLogitsLoss()"
   ]
  },
  {
   "cell_type": "code",
   "execution_count": 16,
   "id": "605b4433-e2c5-45b2-ad58-356458e04951",
   "metadata": {},
   "outputs": [
    {
     "name": "stdout",
     "output_type": "stream",
     "text": [
      "Model being trained:  LSTMClassifier\n"
     ]
    },
    {
     "name": "stderr",
     "output_type": "stream",
     "text": [
      "100%|██████████| 2/2 [08:55<00:00, 267.62s/it]\n"
     ]
    }
   ],
   "source": [
    "model, loss_list = train_model(model, train_loader_layer1, criterion, optimizer, scheduler, num_epochs, device)"
   ]
  },
  {
   "cell_type": "code",
   "execution_count": 12,
   "id": "03328b1a-4686-40a6-9bc9-7c7bda622ede",
   "metadata": {},
   "outputs": [
    {
     "data": {
      "text/plain": [
       "[<matplotlib.lines.Line2D at 0x14dd78c3fb30>]"
      ]
     },
     "execution_count": 12,
     "metadata": {},
     "output_type": "execute_result"
    },
    {
     "data": {
      "image/png": "[encoded data removed]",
      "text/plain": [
       "<Figure size 640x480 with 1 Axes>"
      ]
     },
     "metadata": {},
     "output_type": "display_data"
    }
   ],
   "source": [
    "plt.plot(loss_list)"
   ]
  },
  {
   "cell_type": "code",
   "execution_count": 17,
   "id": "92d42493-5e42-4fa8-8030-06e330cad187",
   "metadata": {},
   "outputs": [
    {
     "name": "stdout",
     "output_type": "stream",
     "text": [
      "Model being tested:  LSTMClassifier\n",
      "\n",
      "Top 5 class-wise Average Precisions:\n",
      "Class 1: 0.3483\n",
      "Class 2: 0.2707\n",
      "Class 3: 0.0481\n",
      "Class 4: 0.0294\n",
      "Class 5: 0.0293\n",
      "Test MAP: 0.0061\n",
      "Test F1-Score: 0.0000\n"
     ]
    },
    {
     "data": {
      "text/plain": [
       "(np.float64(0.006094962939511908), np.float64(0.0))"
      ]
     },
     "execution_count": 17,
     "metadata": {},
     "output_type": "execute_result"
    }
   ],
   "source": [
    "test_model(model, test_loader_layer1)"
   ]
  },
  {
   "cell_type": "code",
   "execution_count": 10,
   "id": "8d06a761-1361-4a0f-92e2-b6c881dbd89d",
   "metadata": {},
   "outputs": [],
   "source": [
    "model = LSTMClassifier()\n",
    "optimizer = torch.optim.AdamW(model.parameters(), lr = 1e-5, betas=(0.9, 0.999), weight_decay=0.1)\n",
    "scheduler = torch.optim.lr_scheduler.OneCycleLR(optimizer, max_lr=1e-3, steps_per_epoch=len(train_loader_layer3), epochs=num_epochs)\n",
    "\n",
    "criterion = nn.BCEWithLogitsLoss()"
   ]
  },
  {
   "cell_type": "code",
   "execution_count": 11,
   "id": "91433f9b-4678-4620-b1ec-afbc29d70383",
   "metadata": {},
   "outputs": [
    {
     "name": "stdout",
     "output_type": "stream",
     "text": [
      "Model being trained:  LSTMClassifier\n"
     ]
    },
    {
     "name": "stderr",
     "output_type": "stream",
     "text": [
      "100%|██████████| 35/35 [2:16:01<00:00, 233.20s/it]  \n"
     ]
    }
   ],
   "source": [
    "model, loss_list = train_model(model, train_loader_layer3, criterion, optimizer, scheduler, num_epochs, device)"
   ]
  },
  {
   "cell_type": "code",
   "execution_count": 12,
   "id": "6fd98809-7225-4d74-81ca-a1c1cc1ebb89",
   "metadata": {},
   "outputs": [
    {
     "data": {
      "text/plain": [
       "[<matplotlib.lines.Line2D at 0x14d76d801010>]"
      ]
     },
     "execution_count": 12,
     "metadata": {},
     "output_type": "execute_result"
    },
    {
     "data": {
      "image/png": "[encoded data removed]",
      "text/plain": [
       "<Figure size 640x480 with 1 Axes>"
      ]
     },
     "metadata": {},
     "output_type": "display_data"
    }
   ],
   "source": [
    "plt.plot(loss_list)"
   ]
  },
  {
   "cell_type": "code",
   "execution_count": 13,
   "id": "06c296f9-f624-4af3-820f-06ebd36de4a4",
   "metadata": {},
   "outputs": [
    {
     "name": "stdout",
     "output_type": "stream",
     "text": [
      "Model being tested:  LSTMClassifier\n",
      "\n",
      "Top 5 class-wise Average Precisions:\n",
      "Class 1: 0.7459\n",
      "Class 2: 0.5564\n",
      "Class 3: 0.3390\n",
      "Class 4: 0.3092\n",
      "Class 5: 0.2922\n",
      "Test MAP: 0.0508\n",
      "Test F1-Score: 0.1292\n"
     ]
    },
    {
     "data": {
      "text/plain": [
       "(np.float64(0.05079352063241875), np.float64(0.12921561197423267))"
      ]
     },
     "execution_count": 13,
     "metadata": {},
     "output_type": "execute_result"
    }
   ],
   "source": [
    "test_model(model, test_loader_layer3)"
   ]
  },
  {
   "cell_type": "code",
   "execution_count": null,
   "id": "6f28651b-94d7-49e4-9ade-126646183081",
   "metadata": {},
   "outputs": [],
   "source": []
  }
 ],
 "metadata": {
  "kernelspec": {
   "display_name": "dl_env",
   "language": "python",
   "name": "dl_env"
  },
  "language_info": {
   "codemirror_mode": {
    "name": "ipython",
    "version": 3
   },
   "file_extension": ".py",
   "mimetype": "text/x-python",
   "name": "python",
   "nbconvert_exporter": "python",
   "pygments_lexer": "ipython3",
   "version": "3.12.7"
  }
 },
 "nbformat": 4,
 "nbformat_minor": 5
}
